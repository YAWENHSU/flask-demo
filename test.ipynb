{
 "cells": [
  {
   "cell_type": "code",
   "execution_count": 2,
   "metadata": {},
   "outputs": [],
   "source": [
    "import pandas as pd"
   ]
  },
  {
   "cell_type": "code",
   "execution_count": 3,
   "metadata": {},
   "outputs": [],
   "source": [
    "url='https://data.moenv.gov.tw/api/v2/aqx_p_02?api_key=e8dd42e6-9b8b-43f8-991e-b3dee723a52d&limit=1000&sort=datacreationdate%20desc&format=CSV'"
   ]
  },
  {
   "cell_type": "code",
   "execution_count": 4,
   "metadata": {},
   "outputs": [
    {
     "data": {
      "text/html": [
       "<div>\n",
       "<style scoped>\n",
       "    .dataframe tbody tr th:only-of-type {\n",
       "        vertical-align: middle;\n",
       "    }\n",
       "\n",
       "    .dataframe tbody tr th {\n",
       "        vertical-align: top;\n",
       "    }\n",
       "\n",
       "    .dataframe thead th {\n",
       "        text-align: right;\n",
       "    }\n",
       "</style>\n",
       "<table border=\"1\" class=\"dataframe\">\n",
       "  <thead>\n",
       "    <tr style=\"text-align: right;\">\n",
       "      <th></th>\n",
       "      <th>site</th>\n",
       "      <th>county</th>\n",
       "      <th>pm25</th>\n",
       "      <th>datacreationdate</th>\n",
       "      <th>itemunit</th>\n",
       "    </tr>\n",
       "  </thead>\n",
       "  <tbody>\n",
       "    <tr>\n",
       "      <th>0</th>\n",
       "      <td>大城</td>\n",
       "      <td>彰化縣</td>\n",
       "      <td>11.0</td>\n",
       "      <td>2023-12-07 10:00</td>\n",
       "      <td>μg/m3</td>\n",
       "    </tr>\n",
       "    <tr>\n",
       "      <th>1</th>\n",
       "      <td>富貴角</td>\n",
       "      <td>新北市</td>\n",
       "      <td>19.0</td>\n",
       "      <td>2023-12-07 10:00</td>\n",
       "      <td>μg/m3</td>\n",
       "    </tr>\n",
       "    <tr>\n",
       "      <th>2</th>\n",
       "      <td>麥寮</td>\n",
       "      <td>雲林縣</td>\n",
       "      <td>12.0</td>\n",
       "      <td>2023-12-07 10:00</td>\n",
       "      <td>μg/m3</td>\n",
       "    </tr>\n",
       "    <tr>\n",
       "      <th>3</th>\n",
       "      <td>關山</td>\n",
       "      <td>臺東縣</td>\n",
       "      <td>4.0</td>\n",
       "      <td>2023-12-07 10:00</td>\n",
       "      <td>μg/m3</td>\n",
       "    </tr>\n",
       "    <tr>\n",
       "      <th>4</th>\n",
       "      <td>馬公</td>\n",
       "      <td>澎湖縣</td>\n",
       "      <td>12.0</td>\n",
       "      <td>2023-12-07 10:00</td>\n",
       "      <td>μg/m3</td>\n",
       "    </tr>\n",
       "    <tr>\n",
       "      <th>...</th>\n",
       "      <td>...</td>\n",
       "      <td>...</td>\n",
       "      <td>...</td>\n",
       "      <td>...</td>\n",
       "      <td>...</td>\n",
       "    </tr>\n",
       "    <tr>\n",
       "      <th>72</th>\n",
       "      <td>土城</td>\n",
       "      <td>新北市</td>\n",
       "      <td>17.0</td>\n",
       "      <td>2023-12-07 10:00</td>\n",
       "      <td>μg/m3</td>\n",
       "    </tr>\n",
       "    <tr>\n",
       "      <th>73</th>\n",
       "      <td>新店</td>\n",
       "      <td>新北市</td>\n",
       "      <td>21.0</td>\n",
       "      <td>2023-12-07 10:00</td>\n",
       "      <td>μg/m3</td>\n",
       "    </tr>\n",
       "    <tr>\n",
       "      <th>74</th>\n",
       "      <td>萬里</td>\n",
       "      <td>新北市</td>\n",
       "      <td>18.0</td>\n",
       "      <td>2023-12-07 10:00</td>\n",
       "      <td>μg/m3</td>\n",
       "    </tr>\n",
       "    <tr>\n",
       "      <th>75</th>\n",
       "      <td>汐止</td>\n",
       "      <td>新北市</td>\n",
       "      <td>23.0</td>\n",
       "      <td>2023-12-07 10:00</td>\n",
       "      <td>μg/m3</td>\n",
       "    </tr>\n",
       "    <tr>\n",
       "      <th>76</th>\n",
       "      <td>基隆</td>\n",
       "      <td>基隆市</td>\n",
       "      <td>23.0</td>\n",
       "      <td>2023-12-07 10:00</td>\n",
       "      <td>μg/m3</td>\n",
       "    </tr>\n",
       "  </tbody>\n",
       "</table>\n",
       "<p>77 rows × 5 columns</p>\n",
       "</div>"
      ],
      "text/plain": [
       "   site county  pm25  datacreationdate itemunit\n",
       "0    大城    彰化縣  11.0  2023-12-07 10:00    μg/m3\n",
       "1   富貴角    新北市  19.0  2023-12-07 10:00    μg/m3\n",
       "2    麥寮    雲林縣  12.0  2023-12-07 10:00    μg/m3\n",
       "3    關山    臺東縣   4.0  2023-12-07 10:00    μg/m3\n",
       "4    馬公    澎湖縣  12.0  2023-12-07 10:00    μg/m3\n",
       "..  ...    ...   ...               ...      ...\n",
       "72   土城    新北市  17.0  2023-12-07 10:00    μg/m3\n",
       "73   新店    新北市  21.0  2023-12-07 10:00    μg/m3\n",
       "74   萬里    新北市  18.0  2023-12-07 10:00    μg/m3\n",
       "75   汐止    新北市  23.0  2023-12-07 10:00    μg/m3\n",
       "76   基隆    基隆市  23.0  2023-12-07 10:00    μg/m3\n",
       "\n",
       "[77 rows x 5 columns]"
      ]
     },
     "execution_count": 4,
     "metadata": {},
     "output_type": "execute_result"
    }
   ],
   "source": [
    "df=pd.read_csv(url)\n",
    "df"
   ]
  },
  {
   "cell_type": "code",
   "execution_count": 5,
   "metadata": {},
   "outputs": [],
   "source": [
    "df=df.dropna()\n"
   ]
  },
  {
   "cell_type": "code",
   "execution_count": 6,
   "metadata": {},
   "outputs": [
    {
     "data": {
      "text/plain": [
       "array(['關山', 4.0], dtype=object)"
      ]
     },
     "execution_count": 6,
     "metadata": {},
     "output_type": "execute_result"
    }
   ],
   "source": [
    "df.sort_values('pm25').iloc[0][['site','pm25']].values"
   ]
  },
  {
   "cell_type": "code",
   "execution_count": 7,
   "metadata": {},
   "outputs": [
    {
     "data": {
      "text/plain": [
       "array(['屏東', 48.0], dtype=object)"
      ]
     },
     "execution_count": 7,
     "metadata": {},
     "output_type": "execute_result"
    }
   ],
   "source": [
    "df.sort_values('pm25').iloc[-1][['site','pm25']].values"
   ]
  },
  {
   "cell_type": "markdown",
   "metadata": {},
   "source": [
    "### 六都平均值"
   ]
  },
  {
   "cell_type": "code",
   "execution_count": 8,
   "metadata": {},
   "outputs": [
    {
     "data": {
      "text/html": [
       "<div>\n",
       "<style scoped>\n",
       "    .dataframe tbody tr th:only-of-type {\n",
       "        vertical-align: middle;\n",
       "    }\n",
       "\n",
       "    .dataframe tbody tr th {\n",
       "        vertical-align: top;\n",
       "    }\n",
       "\n",
       "    .dataframe thead th {\n",
       "        text-align: right;\n",
       "    }\n",
       "</style>\n",
       "<table border=\"1\" class=\"dataframe\">\n",
       "  <thead>\n",
       "    <tr style=\"text-align: right;\">\n",
       "      <th></th>\n",
       "      <th>site</th>\n",
       "      <th>county</th>\n",
       "      <th>pm25</th>\n",
       "      <th>datacreationdate</th>\n",
       "      <th>itemunit</th>\n",
       "    </tr>\n",
       "  </thead>\n",
       "  <tbody>\n",
       "    <tr>\n",
       "      <th>0</th>\n",
       "      <td>大城</td>\n",
       "      <td>彰化縣</td>\n",
       "      <td>11.0</td>\n",
       "      <td>2023-12-07 10:00</td>\n",
       "      <td>μg/m3</td>\n",
       "    </tr>\n",
       "    <tr>\n",
       "      <th>1</th>\n",
       "      <td>富貴角</td>\n",
       "      <td>新北市</td>\n",
       "      <td>19.0</td>\n",
       "      <td>2023-12-07 10:00</td>\n",
       "      <td>μg/m3</td>\n",
       "    </tr>\n",
       "    <tr>\n",
       "      <th>2</th>\n",
       "      <td>麥寮</td>\n",
       "      <td>雲林縣</td>\n",
       "      <td>12.0</td>\n",
       "      <td>2023-12-07 10:00</td>\n",
       "      <td>μg/m3</td>\n",
       "    </tr>\n",
       "    <tr>\n",
       "      <th>3</th>\n",
       "      <td>關山</td>\n",
       "      <td>臺東縣</td>\n",
       "      <td>4.0</td>\n",
       "      <td>2023-12-07 10:00</td>\n",
       "      <td>μg/m3</td>\n",
       "    </tr>\n",
       "    <tr>\n",
       "      <th>4</th>\n",
       "      <td>馬公</td>\n",
       "      <td>澎湖縣</td>\n",
       "      <td>12.0</td>\n",
       "      <td>2023-12-07 10:00</td>\n",
       "      <td>μg/m3</td>\n",
       "    </tr>\n",
       "    <tr>\n",
       "      <th>...</th>\n",
       "      <td>...</td>\n",
       "      <td>...</td>\n",
       "      <td>...</td>\n",
       "      <td>...</td>\n",
       "      <td>...</td>\n",
       "    </tr>\n",
       "    <tr>\n",
       "      <th>72</th>\n",
       "      <td>土城</td>\n",
       "      <td>新北市</td>\n",
       "      <td>17.0</td>\n",
       "      <td>2023-12-07 10:00</td>\n",
       "      <td>μg/m3</td>\n",
       "    </tr>\n",
       "    <tr>\n",
       "      <th>73</th>\n",
       "      <td>新店</td>\n",
       "      <td>新北市</td>\n",
       "      <td>21.0</td>\n",
       "      <td>2023-12-07 10:00</td>\n",
       "      <td>μg/m3</td>\n",
       "    </tr>\n",
       "    <tr>\n",
       "      <th>74</th>\n",
       "      <td>萬里</td>\n",
       "      <td>新北市</td>\n",
       "      <td>18.0</td>\n",
       "      <td>2023-12-07 10:00</td>\n",
       "      <td>μg/m3</td>\n",
       "    </tr>\n",
       "    <tr>\n",
       "      <th>75</th>\n",
       "      <td>汐止</td>\n",
       "      <td>新北市</td>\n",
       "      <td>23.0</td>\n",
       "      <td>2023-12-07 10:00</td>\n",
       "      <td>μg/m3</td>\n",
       "    </tr>\n",
       "    <tr>\n",
       "      <th>76</th>\n",
       "      <td>基隆</td>\n",
       "      <td>基隆市</td>\n",
       "      <td>23.0</td>\n",
       "      <td>2023-12-07 10:00</td>\n",
       "      <td>μg/m3</td>\n",
       "    </tr>\n",
       "  </tbody>\n",
       "</table>\n",
       "<p>76 rows × 5 columns</p>\n",
       "</div>"
      ],
      "text/plain": [
       "   site county  pm25  datacreationdate itemunit\n",
       "0    大城    彰化縣  11.0  2023-12-07 10:00    μg/m3\n",
       "1   富貴角    新北市  19.0  2023-12-07 10:00    μg/m3\n",
       "2    麥寮    雲林縣  12.0  2023-12-07 10:00    μg/m3\n",
       "3    關山    臺東縣   4.0  2023-12-07 10:00    μg/m3\n",
       "4    馬公    澎湖縣  12.0  2023-12-07 10:00    μg/m3\n",
       "..  ...    ...   ...               ...      ...\n",
       "72   土城    新北市  17.0  2023-12-07 10:00    μg/m3\n",
       "73   新店    新北市  21.0  2023-12-07 10:00    μg/m3\n",
       "74   萬里    新北市  18.0  2023-12-07 10:00    μg/m3\n",
       "75   汐止    新北市  23.0  2023-12-07 10:00    μg/m3\n",
       "76   基隆    基隆市  23.0  2023-12-07 10:00    μg/m3\n",
       "\n",
       "[76 rows x 5 columns]"
      ]
     },
     "execution_count": 8,
     "metadata": {},
     "output_type": "execute_result"
    }
   ],
   "source": [
    "df"
   ]
  },
  {
   "cell_type": "code",
   "execution_count": 9,
   "metadata": {},
   "outputs": [
    {
     "data": {
      "text/plain": [
       "{'南投縣',\n",
       " '嘉義市',\n",
       " '嘉義縣',\n",
       " '基隆市',\n",
       " '宜蘭縣',\n",
       " '屏東縣',\n",
       " '彰化縣',\n",
       " '新北市',\n",
       " '新竹市',\n",
       " '新竹縣',\n",
       " '桃園市',\n",
       " '澎湖縣',\n",
       " '臺中市',\n",
       " '臺北市',\n",
       " '臺南市',\n",
       " '臺東縣',\n",
       " '花蓮縣',\n",
       " '苗栗縣',\n",
       " '連江縣',\n",
       " '金門縣',\n",
       " '雲林縣',\n",
       " '高雄市'}"
      ]
     },
     "execution_count": 9,
     "metadata": {},
     "output_type": "execute_result"
    }
   ],
   "source": [
    "set(df[\"county\"])"
   ]
  },
  {
   "cell_type": "code",
   "execution_count": 10,
   "metadata": {},
   "outputs": [
    {
     "data": {
      "text/plain": [
       "['新北市', '臺北市', '桃園市', '臺中市', '臺南市', '高雄市']"
      ]
     },
     "execution_count": 10,
     "metadata": {},
     "output_type": "execute_result"
    }
   ],
   "source": [
    "six_counties=['新北市','臺北市','桃園市','臺中市','臺南市','高雄市']\n",
    "six_counties"
   ]
  },
  {
   "cell_type": "code",
   "execution_count": 11,
   "metadata": {},
   "outputs": [
    {
     "data": {
      "text/plain": [
       "19.5"
      ]
     },
     "execution_count": 11,
     "metadata": {},
     "output_type": "execute_result"
    }
   ],
   "source": [
    "df.groupby('county').get_group('新北市')['pm25'].mean()"
   ]
  },
  {
   "cell_type": "code",
   "execution_count": 12,
   "metadata": {},
   "outputs": [
    {
     "name": "stdout",
     "output_type": "stream",
     "text": [
      "新北市\n",
      "19.5\n",
      "臺北市\n",
      "22.857142857142858\n",
      "桃園市\n",
      "16.833333333333332\n",
      "臺中市\n",
      "9.25\n",
      "臺南市\n",
      "19.0\n",
      "高雄市\n",
      "31.416666666666668\n"
     ]
    }
   ],
   "source": [
    "for county in six_counties:\n",
    "    print(county)\n",
    "    print(df.groupby('county').get_group(county)['pm25'].mean())"
   ]
  },
  {
   "cell_type": "code",
   "execution_count": 13,
   "metadata": {},
   "outputs": [
    {
     "name": "stdout",
     "output_type": "stream",
     "text": [
      "新北市\n",
      "19.5\n",
      "臺北市\n",
      "22.857142857142858\n",
      "桃園市\n",
      "16.833333333333332\n",
      "臺中市\n",
      "9.25\n",
      "臺南市\n",
      "19.0\n",
      "高雄市\n",
      "31.416666666666668\n"
     ]
    },
    {
     "data": {
      "text/plain": [
       "[['新北市', 19.5],\n",
       " ['臺北市', 22.857142857142858],\n",
       " ['桃園市', 16.833333333333332],\n",
       " ['臺中市', 9.25],\n",
       " ['臺南市', 19.0],\n",
       " ['高雄市', 31.416666666666668]]"
      ]
     },
     "execution_count": 13,
     "metadata": {},
     "output_type": "execute_result"
    }
   ],
   "source": [
    "six_data=[]\n",
    "for county in six_counties:\n",
    "    print(county)\n",
    "    print(df.groupby('county').get_group(county)['pm25'].mean())\n",
    "    six_data.append([county,df.groupby('county').get_group(county)['pm25'].mean()])\n",
    "six_data"
   ]
  },
  {
   "cell_type": "code",
   "execution_count": 14,
   "metadata": {},
   "outputs": [
    {
     "name": "stdout",
     "output_type": "stream",
     "text": [
      "新北市\n",
      "19.5\n",
      "臺北市\n",
      "22.857142857142858\n",
      "桃園市\n",
      "16.833333333333332\n",
      "臺中市\n",
      "9.25\n",
      "臺南市\n",
      "19.0\n",
      "高雄市\n",
      "31.416666666666668\n"
     ]
    },
    {
     "data": {
      "text/plain": [
       "{'新北市': 19.5,\n",
       " '臺北市': 22.86,\n",
       " '桃園市': 16.83,\n",
       " '臺中市': 9.25,\n",
       " '臺南市': 19.0,\n",
       " '高雄市': 31.42}"
      ]
     },
     "execution_count": 14,
     "metadata": {},
     "output_type": "execute_result"
    }
   ],
   "source": [
    "six_data={}\n",
    "for county in six_counties:\n",
    "    print(county)\n",
    "    print(df.groupby('county').get_group(county)['pm25'].mean())\n",
    "    six_data[county]=round(df.groupby('county').get_group(county)['pm25'].mean(),2)\n",
    "six_data"
   ]
  }
 ],
 "metadata": {
  "kernelspec": {
   "display_name": "base",
   "language": "python",
   "name": "python3"
  },
  "language_info": {
   "codemirror_mode": {
    "name": "ipython",
    "version": 3
   },
   "file_extension": ".py",
   "mimetype": "text/x-python",
   "name": "python",
   "nbconvert_exporter": "python",
   "pygments_lexer": "ipython3",
   "version": "3.11.4"
  }
 },
 "nbformat": 4,
 "nbformat_minor": 2
}
